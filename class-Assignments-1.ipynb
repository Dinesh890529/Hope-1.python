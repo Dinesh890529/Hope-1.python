{
 "cells": [
  {
   "cell_type": "code",
   "execution_count": 1,
   "id": "052a247c-22e3-4dc2-8fac-c905d5304655",
   "metadata": {},
   "outputs": [],
   "source": [
    "# Create a class and function, and list out the items in the lists:"
   ]
  },
  {
   "cell_type": "code",
   "execution_count": 5,
   "id": "daa33562-1e2d-45e3-b63b-8b0b6db63ad7",
   "metadata": {},
   "outputs": [],
   "source": [
    "class SubfieldsInAI():\n",
    "    def Subfields():\n",
    "        lists = [1,2,3,4,5,6]\n",
    "        print(\"Sub-Fields in AI are:\")\n",
    "        for field in lists:        \n",
    "            if (field == 1):\n",
    "                print (\"Machine Learning\")\n",
    "                message = \"Machine Learning\"\n",
    "            elif (field == 2 ):\n",
    "                print (\"Neural Network\")\n",
    "                message = \"Neural Network\"\n",
    "            elif (field == 3):\n",
    "                print (\"Vision\")\n",
    "                message = \"Vision\"\n",
    "            elif (field == 4):\n",
    "                print (\"Robotics\")\n",
    "                message = \"Robotics\"\n",
    "            elif (field == 5):\n",
    "                print (\"Speech Processing\")\n",
    "                message = \"Speech Processing\"\n",
    "            else:\n",
    "                print (\"Natural Language Processing\")\n",
    "                message = \"Natural Language Processing\""
   ]
  },
  {
   "cell_type": "code",
   "execution_count": 7,
   "id": "78b4832b-d442-4549-a491-0fbbf3e7a31c",
   "metadata": {},
   "outputs": [
    {
     "name": "stdout",
     "output_type": "stream",
     "text": [
      "Sub-Fields in AI are:\n",
      "Machine Learning\n",
      "Neural Network\n",
      "Vision\n",
      "Robotics\n",
      "Speech Processing\n",
      "Natural Language Processing\n"
     ]
    }
   ],
   "source": [
    "SubfieldsInAI.Subfields()"
   ]
  },
  {
   "cell_type": "code",
   "execution_count": 9,
   "id": "0e871e75-d9fc-4983-bb7c-23714bee1895",
   "metadata": {},
   "outputs": [],
   "source": [
    "# create a function that checks whether the given number is odd or even"
   ]
  },
  {
   "cell_type": "code",
   "execution_count": 13,
   "id": "a20dd156-c77d-4301-83f6-29909b427ed1",
   "metadata": {},
   "outputs": [],
   "source": [
    "class OddEven():\n",
    "    def OddEven():\n",
    "        number = int(input(\"Enter a number:\"))\n",
    "        if (number%2==0):\n",
    "            print(number,\"is Even Number\")\n",
    "        else:\n",
    "            print(number,\"is Odd Number\")"
   ]
  },
  {
   "cell_type": "code",
   "execution_count": 15,
   "id": "5ab40172-039e-41ba-815b-4eceee7b98c7",
   "metadata": {},
   "outputs": [
    {
     "name": "stdin",
     "output_type": "stream",
     "text": [
      "Enter a number: 52452\n"
     ]
    },
    {
     "name": "stdout",
     "output_type": "stream",
     "text": [
      "52452 is Even Number\n"
     ]
    }
   ],
   "source": [
    "OddEven.OddEven()"
   ]
  },
  {
   "cell_type": "code",
   "execution_count": 17,
   "id": "e1aaeadb-efe2-4141-b142-0699014570eb",
   "metadata": {},
   "outputs": [],
   "source": [
    "# create a function that tells the eligibility of marriage for male and female according to their age limit like 21 for male and 18 for female:"
   ]
  },
  {
   "cell_type": "code",
   "execution_count": 21,
   "id": "86e4e431-2d19-484a-9c32-266d31acae37",
   "metadata": {},
   "outputs": [],
   "source": [
    "class MarriageEligibilityAge():\n",
    "    def Eligible():\n",
    "        gender = input(\"Enter the Gender:\")\n",
    "        age = int(input(\"Enter the Age:\"))\n",
    "        if (gender == \"Male\" and age >= 21):\n",
    "            print(\"Eligible\")\n",
    "        elif(gender == \"Female\" and age >= 18):\n",
    "            print(\"Eligible\")\n",
    "        else:\n",
    "            print(\"NOT ELIGIBLE\")"
   ]
  },
  {
   "cell_type": "code",
   "execution_count": 25,
   "id": "fafef227-bb2f-449a-b4ea-2e246912075b",
   "metadata": {},
   "outputs": [
    {
     "name": "stdin",
     "output_type": "stream",
     "text": [
      "Enter the Gender: Male\n",
      "Enter the Age: 20\n"
     ]
    },
    {
     "name": "stdout",
     "output_type": "stream",
     "text": [
      "NOT ELIGIBLE\n"
     ]
    }
   ],
   "source": [
    "MarriageEligibilityAge.Eligible()"
   ]
  },
  {
   "cell_type": "code",
   "execution_count": 27,
   "id": "21822182-e3f0-46ea-a162-ce9ef81a8ee0",
   "metadata": {},
   "outputs": [],
   "source": [
    "# calculate the percentage of your 10th mark:"
   ]
  },
  {
   "cell_type": "code",
   "execution_count": 29,
   "id": "5b86bf97-4c1a-436d-b639-39d954ad6f0c",
   "metadata": {},
   "outputs": [],
   "source": [
    "class TenthPercentage():\n",
    "    def percentage():\n",
    "        subject1 = int(input(\"Subject1=\"))\n",
    "        subject2 = int(input(\"Subject2=\"))\n",
    "        subject3 = int(input(\"Subject3=\"))\n",
    "        subject4 = int(input(\"Subject4=\"))\n",
    "        subject5 = int(input(\"Subject5=\"))\n",
    "        Total = subject1 + subject2 + subject3 + subject4 + subject5\n",
    "        Percentage = Total/5\n",
    "        print(\"Total :\",Total)\n",
    "        print(\"Percentage :\",Percentage)"
   ]
  },
  {
   "cell_type": "code",
   "execution_count": 31,
   "id": "2d5bf243-0f71-4e8c-9ab8-075b1e3def9e",
   "metadata": {},
   "outputs": [
    {
     "name": "stdin",
     "output_type": "stream",
     "text": [
      "Subject1= 98\n",
      "Subject2= 87\n",
      "Subject3= 95\n",
      "Subject4= 95\n",
      "Subject5= 93\n"
     ]
    },
    {
     "name": "stdout",
     "output_type": "stream",
     "text": [
      "Total : 468\n",
      "Percentage : 93.6\n"
     ]
    }
   ],
   "source": [
    "TenthPercentage.percentage()"
   ]
  },
  {
   "cell_type": "code",
   "execution_count": 33,
   "id": "b9103327-4881-400f-9b6b-f93151fc4e17",
   "metadata": {},
   "outputs": [],
   "source": [
    "# print area and perimeter of triangle using class and functions:"
   ]
  },
  {
   "cell_type": "code",
   "execution_count": 35,
   "id": "9980d1f2-54be-499d-82d8-93818286cea3",
   "metadata": {},
   "outputs": [],
   "source": [
    "class triangle():\n",
    "    def triangle():\n",
    "        Height = int(input(\"Height=\"))\n",
    "        Breadth = int(input(\"Breadth=\"))\n",
    "        area_of_traingle = (Height*Breadth)/2\n",
    "        print(\"Area formula: (Height*Breadth)/2\")\n",
    "        print(\"Area of Traingle:\",area_of_traingle)\n",
    "        Height1 = int(input(\"Height1=\"))\n",
    "        Height2 = int(input(\"Height2=\"))\n",
    "        Breadth1 = int(input(\"Breadth1=\"))\n",
    "        print(\"Perimeter formula: Height1+Height2+Breadth1\")\n",
    "        perimeter_of_traingle = Height1+Height2+Breadth1\n",
    "        print(\"perimeter of Traingle:\", perimeter_of_traingle)"
   ]
  },
  {
   "cell_type": "code",
   "execution_count": 37,
   "id": "457f92ee-69d5-4d1d-8322-52a4f66c7cc6",
   "metadata": {},
   "outputs": [
    {
     "name": "stdin",
     "output_type": "stream",
     "text": [
      "Height= 32\n",
      "Breadth= 34\n"
     ]
    },
    {
     "name": "stdout",
     "output_type": "stream",
     "text": [
      "Area formula: (Height*Breadth)/2\n",
      "Area of Traingle: 544.0\n"
     ]
    },
    {
     "name": "stdin",
     "output_type": "stream",
     "text": [
      "Height1= 2\n",
      "Height2= 4\n",
      "Breadth1= 4\n"
     ]
    },
    {
     "name": "stdout",
     "output_type": "stream",
     "text": [
      "Perimeter formula: Height1+Height2+Breadth1\n",
      "perimeter of Traingle: 10\n"
     ]
    }
   ],
   "source": [
    "triangle.triangle()"
   ]
  },
  {
   "cell_type": "code",
   "execution_count": null,
   "id": "f1a1d56f-6ba5-4da3-8b59-b81bc2668b4a",
   "metadata": {},
   "outputs": [],
   "source": []
  },
  {
   "cell_type": "code",
   "execution_count": null,
   "id": "0285352a-244b-48a4-8d84-f1f637f97698",
   "metadata": {},
   "outputs": [],
   "source": []
  },
  {
   "cell_type": "code",
   "execution_count": null,
   "id": "c9eca4e3-0f3d-4d99-9d9f-086843ee8519",
   "metadata": {},
   "outputs": [],
   "source": []
  }
 ],
 "metadata": {
  "kernelspec": {
   "display_name": "Python 3 (ipykernel)",
   "language": "python",
   "name": "python3"
  },
  "language_info": {
   "codemirror_mode": {
    "name": "ipython",
    "version": 3
   },
   "file_extension": ".py",
   "mimetype": "text/x-python",
   "name": "python",
   "nbconvert_exporter": "python",
   "pygments_lexer": "ipython3",
   "version": "3.12.7"
  }
 },
 "nbformat": 4,
 "nbformat_minor": 5
}
