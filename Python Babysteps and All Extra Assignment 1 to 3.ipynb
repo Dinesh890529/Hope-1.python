{
 "cells": [
  {
   "cell_type": "markdown",
   "id": "99d53651-bf5c-4736-983a-ddc03cf86e0d",
   "metadata": {},
   "source": [
    "### 1.Print Statement:"
   ]
  },
  {
   "cell_type": "code",
   "execution_count": 11,
   "id": "7d5b449a-e66f-4a32-b844-63a1b484f5e6",
   "metadata": {},
   "outputs": [
    {
     "name": "stdout",
     "output_type": "stream",
     "text": [
      "Welcome to Assignment-1\n"
     ]
    }
   ],
   "source": [
    "print(\"Welcome to Assignment-1\")"
   ]
  },
  {
   "cell_type": "markdown",
   "id": "0b10d06b-e85e-41ca-a2d7-bc59130a7586",
   "metadata": {},
   "source": [
    "### 2. Addition of two numbers:"
   ]
  },
  {
   "cell_type": "code",
   "execution_count": 3,
   "id": "dd6caa96-906f-4006-a73e-1e3730549bcd",
   "metadata": {},
   "outputs": [
    {
     "name": "stdin",
     "output_type": "stream",
     "text": [
      "Enter the first number: 10\n",
      "Enter the second number: 30\n"
     ]
    },
    {
     "name": "stdout",
     "output_type": "stream",
     "text": [
      "Num1=  10\n",
      "Num2=  30\n",
      "Add=  40\n"
     ]
    }
   ],
   "source": [
    "number1 = int(input(\"Enter the first number:\"))\n",
    "number2 = int(input(\"Enter the second number:\"))\n",
    "addition = number1 + number2\n",
    "print(\"Num1= \",number1)\n",
    "print(\"Num2= \",number2)\n",
    "print(\"Add= \",addition)"
   ]
  },
  {
   "cell_type": "markdown",
   "id": "512f5ffb-3c42-442a-a8fa-7c8c9daac88e",
   "metadata": {},
   "source": [
    "### 3. Body Mass Index - BMI:"
   ]
  },
  {
   "cell_type": "code",
   "execution_count": 27,
   "id": "1ea0f7b1-bb70-4075-a500-846388de304a",
   "metadata": {},
   "outputs": [
    {
     "name": "stdin",
     "output_type": "stream",
     "text": [
      "Enter the BMI Index:  31\n"
     ]
    },
    {
     "name": "stdout",
     "output_type": "stream",
     "text": [
      "Obese class I\n"
     ]
    }
   ],
   "source": [
    "bmi = int(input(\"Enter the BMI Index: \"))\n",
    "if(bmi < 18.5):\n",
    "    print(\"Underweight\")\n",
    "elif(bmi < 24.9):\n",
    "    print(\"Normal weight\")\n",
    "elif(bmi < 29.9):\n",
    "    print(\"Overweight\")\n",
    "elif(bmi >= 30):\n",
    "    if(bmi < 34.9):\n",
    "        print(\"Obese class I\")\n",
    "    elif(bmi < 39.9):\n",
    "        print(\"Obese class II\")\n",
    "    else:\n",
    "        print(\"Obese class III\")    "
   ]
  },
  {
   "cell_type": "markdown",
   "id": "b07de414-fe7d-4064-ac23-7fce473b8684",
   "metadata": {},
   "source": [
    "## Extra Assignment1:"
   ]
  },
  {
   "cell_type": "markdown",
   "id": "4abfc2fd-1df0-4834-bf2d-985229d69120",
   "metadata": {},
   "source": [
    "### print Statement:"
   ]
  },
  {
   "cell_type": "code",
   "execution_count": 35,
   "id": "77616c2b-d812-41da-9cea-172e7205f44c",
   "metadata": {},
   "outputs": [
    {
     "name": "stdout",
     "output_type": "stream",
     "text": [
      "HOPE AI\n"
     ]
    }
   ],
   "source": [
    "print(\"HOPE AI\")"
   ]
  },
  {
   "cell_type": "markdown",
   "id": "d8db27a8-5f4d-4343-aa24-a45704d958db",
   "metadata": {},
   "source": [
    "## Buy input:"
   ]
  },
  {
   "cell_type": "code",
   "execution_count": 39,
   "id": "adf5f77e-84bd-4bf6-8904-da969591e51f",
   "metadata": {},
   "outputs": [
    {
     "name": "stdin",
     "output_type": "stream",
     "text": [
      "Enter your institute name? :  HOPE AI\n"
     ]
    }
   ],
   "source": [
    "institute_name = input(\"Enter your institute name? : \")"
   ]
  },
  {
   "cell_type": "markdown",
   "id": "08d6d5b8-8274-4e41-8f44-631fb479ec33",
   "metadata": {},
   "source": [
    "## Buy inputs:"
   ]
  },
  {
   "cell_type": "code",
   "execution_count": 43,
   "id": "4ad4db20-d48b-4e6e-8d85-cf6d41209d5b",
   "metadata": {},
   "outputs": [
    {
     "name": "stdin",
     "output_type": "stream",
     "text": [
      "Enter your name:  Dinesh\n",
      "Enter your age:  35\n",
      "Enter your school name:  Sacred Heart\n",
      "Enter your degree:  BCA, MBA\n"
     ]
    }
   ],
   "source": [
    "name = input(\"Enter your name: \")\n",
    "age = int(input(\"Enter your age: \"))\n",
    "school_name = input(\"Enter your school name: \")\n",
    "degree = input(\"Enter your degree: \")"
   ]
  },
  {
   "cell_type": "markdown",
   "id": "a7d149a3-4861-4196-8ea7-60ba02743112",
   "metadata": {},
   "source": [
    "### Addition:"
   ]
  },
  {
   "cell_type": "code",
   "execution_count": 47,
   "id": "89fa5efe-4928-4b05-9447-c71f9cd3fbbd",
   "metadata": {},
   "outputs": [
    {
     "name": "stdin",
     "output_type": "stream",
     "text": [
      "a=  43\n",
      "b=  34\n"
     ]
    },
    {
     "name": "stdout",
     "output_type": "stream",
     "text": [
      "add =  77\n"
     ]
    }
   ],
   "source": [
    "a = int(input(\"a= \"))\n",
    "b = int(input(\"b= \"))\n",
    "add = a+b\n",
    "print(\"add = \", add)"
   ]
  },
  {
   "cell_type": "markdown",
   "id": "6f9f490f-bec6-4a14-aff0-45d232b51fe6",
   "metadata": {},
   "source": [
    "### Subtraction:"
   ]
  },
  {
   "cell_type": "code",
   "execution_count": 52,
   "id": "a9807d99-1398-480d-af68-2d3522ec301d",
   "metadata": {},
   "outputs": [
    {
     "name": "stdin",
     "output_type": "stream",
     "text": [
      "a=  43\n",
      "b=  34\n"
     ]
    },
    {
     "name": "stdout",
     "output_type": "stream",
     "text": [
      "Sub =  9\n"
     ]
    }
   ],
   "source": [
    "a = int(input(\"a= \"))\n",
    "b = int(input(\"b= \"))\n",
    "sub = a-b\n",
    "print(\"Sub = \", sub)"
   ]
  },
  {
   "cell_type": "markdown",
   "id": "8a4f17f5-fc01-495b-a278-22140deccedf",
   "metadata": {},
   "source": [
    "### Multiplication:"
   ]
  },
  {
   "cell_type": "code",
   "execution_count": 57,
   "id": "b1cb4d80-4b6a-4352-906f-c0921d77780a",
   "metadata": {},
   "outputs": [
    {
     "name": "stdin",
     "output_type": "stream",
     "text": [
      "a=  63\n",
      "b=  97\n"
     ]
    },
    {
     "name": "stdout",
     "output_type": "stream",
     "text": [
      "Mul =  6111\n"
     ]
    }
   ],
   "source": [
    "a = int(input(\"a= \"))\n",
    "b = int(input(\"b= \"))\n",
    "multiply = a*b\n",
    "print(\"Mul = \", multiply)"
   ]
  },
  {
   "cell_type": "markdown",
   "id": "c1ae829a-522c-4835-8975-864eae7bb58c",
   "metadata": {},
   "source": [
    "### Division:"
   ]
  },
  {
   "cell_type": "code",
   "execution_count": 60,
   "id": "fc7e1945-a2a5-4af7-8dcf-8927936e2231",
   "metadata": {},
   "outputs": [
    {
     "name": "stdin",
     "output_type": "stream",
     "text": [
      "a=  76\n",
      "b=  31\n"
     ]
    },
    {
     "name": "stdout",
     "output_type": "stream",
     "text": [
      "Float Div =  2.4516129032258065\n"
     ]
    }
   ],
   "source": [
    "a = int(input(\"a= \"))\n",
    "b = int(input(\"b= \"))\n",
    "division = a/b\n",
    "print(\"Float Div = \", division)"
   ]
  },
  {
   "cell_type": "markdown",
   "id": "e4f2b480-8bb9-477f-8cf4-4da6395eb2c1",
   "metadata": {},
   "source": [
    "### Floor Division:"
   ]
  },
  {
   "cell_type": "code",
   "execution_count": 65,
   "id": "5b8d2d23-1203-47ae-9bb1-f68ce34613d6",
   "metadata": {},
   "outputs": [
    {
     "name": "stdin",
     "output_type": "stream",
     "text": [
      "a=  76\n",
      "b=  31\n"
     ]
    },
    {
     "name": "stdout",
     "output_type": "stream",
     "text": [
      "Floor Div =  2\n"
     ]
    }
   ],
   "source": [
    "a = int(input(\"a= \"))\n",
    "b = int(input(\"b= \"))\n",
    "division = a//b\n",
    "print(\"Floor Div = \", division)"
   ]
  },
  {
   "cell_type": "markdown",
   "id": "d570d672-03ae-4634-b612-476eda2ee16b",
   "metadata": {},
   "source": [
    "###  Modulo:"
   ]
  },
  {
   "cell_type": "code",
   "execution_count": 68,
   "id": "babe1d57-524c-4d01-bdcd-54ec2c62a38e",
   "metadata": {},
   "outputs": [
    {
     "name": "stdin",
     "output_type": "stream",
     "text": [
      "a=  76\n",
      "b=  31\n"
     ]
    },
    {
     "name": "stdout",
     "output_type": "stream",
     "text": [
      "Modulo =  14\n"
     ]
    }
   ],
   "source": [
    "a = int(input(\"a= \"))\n",
    "b = int(input(\"b= \"))\n",
    "modulus = a%b\n",
    "print(\"Modulo = \", modulus)"
   ]
  },
  {
   "cell_type": "markdown",
   "id": "d06f565b-dbd3-4915-809a-aac55c5bc6e9",
   "metadata": {},
   "source": [
    "### Power:"
   ]
  },
  {
   "cell_type": "code",
   "execution_count": 73,
   "id": "7fc2f370-4183-4233-b266-ac59d61df242",
   "metadata": {},
   "outputs": [
    {
     "name": "stdin",
     "output_type": "stream",
     "text": [
      "a=  4\n",
      "b=  4\n"
     ]
    },
    {
     "name": "stdout",
     "output_type": "stream",
     "text": [
      "Power =  256\n"
     ]
    }
   ],
   "source": [
    "a = int(input(\"a= \"))\n",
    "b = int(input(\"b= \"))\n",
    "power = a**b\n",
    "print(\"Power = \", power)"
   ]
  },
  {
   "cell_type": "markdown",
   "id": "163df719-106d-4443-917f-fec627b6f3fb",
   "metadata": {},
   "source": [
    "# Extra Assignment 2:"
   ]
  },
  {
   "cell_type": "markdown",
   "id": "0327bdad-6e35-4f49-8864-3196f6117e4b",
   "metadata": {},
   "source": [
    "### print 0 to 20 by using range:"
   ]
  },
  {
   "cell_type": "code",
   "execution_count": 78,
   "id": "e031c3ab-cad1-4068-b198-ae46fc6834a7",
   "metadata": {},
   "outputs": [
    {
     "name": "stdout",
     "output_type": "stream",
     "text": [
      "0\n",
      "1\n",
      "2\n",
      "3\n",
      "4\n",
      "5\n",
      "6\n",
      "7\n",
      "8\n",
      "9\n",
      "10\n",
      "11\n",
      "12\n",
      "13\n",
      "14\n",
      "15\n",
      "16\n",
      "17\n",
      "18\n",
      "19\n"
     ]
    }
   ],
   "source": [
    "for each_num in range(0,20):\n",
    "    print(each_num)"
   ]
  },
  {
   "cell_type": "markdown",
   "id": "3c7ba3e3-b3b2-494b-a04f-3768f746114b",
   "metadata": {},
   "source": [
    "### print range 10 to 20:"
   ]
  },
  {
   "cell_type": "code",
   "execution_count": 87,
   "id": "34af004f-f9e5-430a-9c11-14f9dcdefd49",
   "metadata": {},
   "outputs": [
    {
     "name": "stdout",
     "output_type": "stream",
     "text": [
      "10 11 12 13 14 15 16 17 18 19 "
     ]
    }
   ],
   "source": [
    "for each_num in range(10,20):\n",
    "    print(each_num,end=\" \")"
   ]
  },
  {
   "cell_type": "markdown",
   "id": "9aca096a-5081-4248-88c8-e666e70c69df",
   "metadata": {},
   "source": [
    "### Print number of items in the list by using 'len' :"
   ]
  },
  {
   "cell_type": "code",
   "execution_count": 115,
   "id": "127464c3-48a3-4ee7-8982-40ec1261033d",
   "metadata": {},
   "outputs": [
    {
     "name": "stdout",
     "output_type": "stream",
     "text": [
      "[10, 20, 14, 55, 43, 87, 76]\n",
      "Number of item in the List2:\n",
      " 7\n"
     ]
    }
   ],
   "source": [
    "lists = [10,20,14,55,43,87,76]\n",
    "print(lists)\n",
    "print(\"Number of item in the List2:\\n\",len(lists))"
   ]
  },
  {
   "cell_type": "code",
   "execution_count": 119,
   "id": "f196a77b-6687-4df6-8a20-1749742d1003",
   "metadata": {},
   "outputs": [
    {
     "name": "stdin",
     "output_type": "stream",
     "text": [
      " Artificial Intelligence\n"
     ]
    },
    {
     "name": "stdout",
     "output_type": "stream",
     "text": [
      "A\n",
      "r\n",
      "t\n",
      "i\n",
      "f\n",
      "i\n",
      "c\n",
      "i\n",
      "a\n",
      "l\n",
      " \n",
      "I\n",
      "n\n",
      "t\n",
      "e\n",
      "l\n",
      "l\n",
      "i\n",
      "g\n",
      "e\n",
      "n\n",
      "c\n",
      "e\n"
     ]
    }
   ],
   "source": [
    "string = input()\n",
    "for each_letter in string:\n",
    "    print(each_letter)"
   ]
  },
  {
   "cell_type": "code",
   "execution_count": 121,
   "id": "53744f27-545f-4d42-b77f-ccca632833b0",
   "metadata": {},
   "outputs": [
    {
     "name": "stdout",
     "output_type": "stream",
     "text": [
      "-Your Name-\n",
      "-Your Age-\n",
      "-Your Profession-\n"
     ]
    }
   ],
   "source": [
    "print(\"-Your Name-\")\n",
    "print(\"-Your Age-\")\n",
    "print(\"-Your Profession-\")"
   ]
  },
  {
   "cell_type": "markdown",
   "id": "0b7d476c-7d7d-4a22-8f2c-fd802b0b9d19",
   "metadata": {},
   "source": [
    "### print this mixed datatypes using tuples:"
   ]
  },
  {
   "cell_type": "code",
   "execution_count": 126,
   "id": "bd75ded0-19b5-4067-8347-a4c08dd8672f",
   "metadata": {},
   "outputs": [
    {
     "name": "stdout",
     "output_type": "stream",
     "text": [
      "(1, 'Welcome', 2, 'Hope')\n"
     ]
    }
   ],
   "source": [
    "tuple1 = (1, 'Welcome', 2, 'Hope')\n",
    "print(tuple1)"
   ]
  },
  {
   "cell_type": "code",
   "execution_count": 128,
   "id": "372c3021-c0ad-448e-b679-9bf1897bd53f",
   "metadata": {},
   "outputs": [
    {
     "name": "stdout",
     "output_type": "stream",
     "text": [
      "((0, 1, 2, 3), ('python', 'HOPE'))\n"
     ]
    }
   ],
   "source": [
    "tuple2 = (0,1,2,3)\n",
    "tuple3 = ('python', 'HOPE')\n",
    "tuple4 = (tuple2,tuple3)\n",
    "print(tuple4)"
   ]
  },
  {
   "cell_type": "markdown",
   "id": "5761e35d-aff1-40e0-9c4f-8f31a3633df3",
   "metadata": {},
   "source": [
    "### print odd numbers in the list:"
   ]
  },
  {
   "cell_type": "code",
   "execution_count": 151,
   "id": "813da334-504a-4872-af75-823266de94c5",
   "metadata": {},
   "outputs": [
    {
     "name": "stdout",
     "output_type": "stream",
     "text": [
      "(20, 10, 16, 19, 25, 1, 276, 188)\n",
      "19 is odd\n",
      "25 is odd\n",
      "1 is odd\n"
     ]
    }
   ],
   "source": [
    "tuple5 = (20,10,16,19,25,1,276,188)\n",
    "print(tuple5)\n",
    "for each_num in tuple5:\n",
    "    if ((each_num % 2 == 1)):\n",
    "        print(each_num, \"is odd\")"
   ]
  },
  {
   "cell_type": "markdown",
   "id": "d5b538f1-28c7-4dc1-b77e-310e98fe2283",
   "metadata": {},
   "source": [
    "### print even numbers in the list:"
   ]
  },
  {
   "cell_type": "code",
   "execution_count": 155,
   "id": "348cf59f-9e56-4f8f-8812-58fa024b01f9",
   "metadata": {},
   "outputs": [
    {
     "name": "stdout",
     "output_type": "stream",
     "text": [
      "(20, 10, 16, 19, 25, 1, 276, 188)\n",
      "20 is even\n",
      "10 is even\n",
      "16 is even\n",
      "276 is even\n",
      "188 is even\n"
     ]
    }
   ],
   "source": [
    "tuple5 = (20,10,16,19,25,1,276,188)\n",
    "print(tuple5)\n",
    "for each_num in tuple5:\n",
    "    if ((each_num % 2 == 0)):\n",
    "        print(each_num, \"is even\")"
   ]
  },
  {
   "cell_type": "markdown",
   "id": "e1e17ffd-0005-44ee-a014-cbfaeaa63380",
   "metadata": {},
   "source": [
    "# Extra Assginment 3:"
   ]
  },
  {
   "cell_type": "markdown",
   "id": "86ae3241-8df4-47a4-8443-4d7b9cd63ae1",
   "metadata": {},
   "source": [
    "### print 'CORRECT' if i == 10:"
   ]
  },
  {
   "cell_type": "code",
   "execution_count": 165,
   "id": "de9144fe-7160-4097-afc3-34ff11376104",
   "metadata": {},
   "outputs": [
    {
     "name": "stdin",
     "output_type": "stream",
     "text": [
      "value:  10\n"
     ]
    },
    {
     "name": "stdout",
     "output_type": "stream",
     "text": [
      "CORRECT\n"
     ]
    }
   ],
   "source": [
    "number = int(input(\"value: \"))\n",
    "if number == 10:\n",
    "    print(\"CORRECT\")\n",
    "else:\n",
    "    print(\"INCORRECT\")"
   ]
  },
  {
   "cell_type": "code",
   "execution_count": 171,
   "id": "420ba59c-2f05-44c5-a136-bf315b5f8313",
   "metadata": {},
   "outputs": [
    {
     "name": "stdin",
     "output_type": "stream",
     "text": [
      "Enter the password:  HOPE@123\n"
     ]
    },
    {
     "name": "stdout",
     "output_type": "stream",
     "text": [
      "Your pasword is correct\n"
     ]
    }
   ],
   "source": [
    "string = input(\"Enter the password: \")\n",
    "if string == 'HOPE@123':\n",
    "    print(\"Your pasword is correct\")\n",
    "else:\n",
    "    print(\"Your pasword is Incorrect\")"
   ]
  },
  {
   "cell_type": "markdown",
   "id": "6dfce5fe-df89-4a40-9885-a3fd9e536960",
   "metadata": {},
   "source": [
    "### Category the people by their age like children, adult, citizen, senior citizen..."
   ]
  },
  {
   "cell_type": "code",
   "execution_count": 190,
   "id": "af3ae5f2-99fa-4630-8531-2dd5e61ef413",
   "metadata": {},
   "outputs": [
    {
     "name": "stdin",
     "output_type": "stream",
     "text": [
      "age:  20\n"
     ]
    },
    {
     "name": "stdout",
     "output_type": "stream",
     "text": [
      "Adult\n"
     ]
    }
   ],
   "source": [
    "age = int(input(\"age: \"))\n",
    "if age <= 18:\n",
    "    print(\"Children\")\n",
    "elif age <= 40:\n",
    "    print(\"Adult\")\n",
    "elif age <= 59:\n",
    "    print(\"Citizen\")\n",
    "else:\n",
    "    print(\"Senior Citizen\")"
   ]
  },
  {
   "cell_type": "markdown",
   "id": "5b3f33df-923a-4138-b57f-040a5ac18fa1",
   "metadata": {},
   "source": [
    "### Find given number is positive or negative:"
   ]
  },
  {
   "cell_type": "code",
   "execution_count": 201,
   "id": "8ee6ae93-4e95-4cb4-aa3b-f0ca9609a3e4",
   "metadata": {},
   "outputs": [
    {
     "name": "stdin",
     "output_type": "stream",
     "text": [
      "Enter any number:  1\n"
     ]
    },
    {
     "name": "stdout",
     "output_type": "stream",
     "text": [
      "No is Positive\n"
     ]
    }
   ],
   "source": [
    "number = int(input(\"Enter any number: \"))\n",
    "if number > 0:\n",
    "    print(\"No is Positive\")\n",
    "else:\n",
    "    print(\"No is Negative\")"
   ]
  },
  {
   "cell_type": "markdown",
   "id": "9437beb2-5995-43de-8820-059910de2ce8",
   "metadata": {},
   "source": [
    "### Check whether the given number is divisible by 5:"
   ]
  },
  {
   "cell_type": "code",
   "execution_count": 208,
   "id": "045f79ba-27cd-4826-a776-bc35212500c4",
   "metadata": {},
   "outputs": [
    {
     "name": "stdin",
     "output_type": "stream",
     "text": [
      "Enter any number:  22\n"
     ]
    },
    {
     "name": "stdout",
     "output_type": "stream",
     "text": [
      "No is not divisible by 5\n"
     ]
    }
   ],
   "source": [
    "number1 = int(input(\"Enter any number: \"))\n",
    "if number1 % 5 == 0:\n",
    "    print(\"No is divisible by 5\")\n",
    "else:\n",
    "    print(\"No is not divisible by 5\")"
   ]
  },
  {
   "cell_type": "code",
   "execution_count": null,
   "id": "66407f6e-fcfc-4177-a7e0-c877070b45bc",
   "metadata": {},
   "outputs": [],
   "source": []
  },
  {
   "cell_type": "code",
   "execution_count": null,
   "id": "5c3a3f07-8a5d-4df5-a33d-aa7b226b0842",
   "metadata": {},
   "outputs": [],
   "source": []
  }
 ],
 "metadata": {
  "kernelspec": {
   "display_name": "Python 3 (ipykernel)",
   "language": "python",
   "name": "python3"
  },
  "language_info": {
   "codemirror_mode": {
    "name": "ipython",
    "version": 3
   },
   "file_extension": ".py",
   "mimetype": "text/x-python",
   "name": "python",
   "nbconvert_exporter": "python",
   "pygments_lexer": "ipython3",
   "version": "3.12.7"
  }
 },
 "nbformat": 4,
 "nbformat_minor": 5
}
