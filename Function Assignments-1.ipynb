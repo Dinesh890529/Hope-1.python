{
 "cells": [
  {
   "cell_type": "code",
   "execution_count": null,
   "id": "bb4be9a9-c2ba-4347-922e-1e73158ef04c",
   "metadata": {},
   "outputs": [],
   "source": [
    "# Create Function:"
   ]
  },
  {
   "cell_type": "code",
   "execution_count": 1,
   "id": "ed3d1e9c-9058-4414-b00d-622a1b55e8c6",
   "metadata": {},
   "outputs": [],
   "source": [
    "def Subfields():\n",
    "    lists = [1,2,3,4,5,6]\n",
    "    print(\"Sub-Fields in AI are:\")\n",
    "    for field in lists:        \n",
    "        if (field == 1):\n",
    "            print (\"Machine Learning\")\n",
    "            message = \"Machine Learning\"\n",
    "        elif (field == 2 ):\n",
    "            print (\"Neural Network\")\n",
    "            message = \"Neural Network\"\n",
    "        elif (field == 3):\n",
    "            print (\"Vision\")\n",
    "            message = \"Vision\"\n",
    "        elif (field == 4):\n",
    "            print (\"Robotics\")\n",
    "            message = \"Robotics\"\n",
    "        elif (field == 5):\n",
    "            print (\"Speech Processing\")\n",
    "            message = \"Speech Processing\"\n",
    "        else:\n",
    "            print (\"Natural Language Processing\")\n",
    "            message = \"Natural Language Processing\""
   ]
  },
  {
   "cell_type": "code",
   "execution_count": 3,
   "id": "530483a3-079c-4e9b-9487-90c5e2152b7a",
   "metadata": {},
   "outputs": [
    {
     "name": "stdout",
     "output_type": "stream",
     "text": [
      "Sub-Fields in AI are:\n",
      "Machine Learning\n",
      "Neural Network\n",
      "Vision\n",
      "Robotics\n",
      "Speech Processing\n",
      "Natural Language Processing\n"
     ]
    }
   ],
   "source": [
    "Subfields()"
   ]
  },
  {
   "cell_type": "code",
   "execution_count": null,
   "id": "a5f4bc66-76ec-4bb5-8120-9049d803a116",
   "metadata": {},
   "outputs": [],
   "source": [
    "# Create Function:"
   ]
  },
  {
   "cell_type": "code",
   "execution_count": 21,
   "id": "e4950bb4-ce24-4f78-a1aa-142c5e8cc447",
   "metadata": {},
   "outputs": [],
   "source": [
    "def OddEven():\n",
    "    number = int(input(\"Enter a number:\"))\n",
    "    if (number%2==0):\n",
    "        print(number,\"is Even Number\")\n",
    "    else:\n",
    "        print(number,\"is Odd Number\")"
   ]
  },
  {
   "cell_type": "code",
   "execution_count": 23,
   "id": "8f6cd067-1583-4ee7-8fe9-811f77120116",
   "metadata": {},
   "outputs": [
    {
     "name": "stdin",
     "output_type": "stream",
     "text": [
      "Enter a number: 24\n"
     ]
    },
    {
     "name": "stdout",
     "output_type": "stream",
     "text": [
      "24 is Even Number\n"
     ]
    }
   ],
   "source": [
    "OddEven()"
   ]
  },
  {
   "cell_type": "code",
   "execution_count": 25,
   "id": "c79f9e49-4ae2-4a88-b733-3c8d4beb579a",
   "metadata": {},
   "outputs": [],
   "source": [
    "# Create Function:"
   ]
  },
  {
   "cell_type": "code",
   "execution_count": 29,
   "id": "b469c9bf-3835-4cee-aae6-8086e0fc0589",
   "metadata": {},
   "outputs": [],
   "source": [
    "def Eligible():\n",
    "    gender = input(\"Enter the Gender:\")\n",
    "    age = int(input(\"Enter the Age:\"))\n",
    "    if (gender == \"Male\" and age >= 21):\n",
    "        print(\"Eligible\")\n",
    "    elif(gender == \"Female\" and age >= 18):\n",
    "        print(\"Eligible\")\n",
    "    else:\n",
    "        print(\"NOT ELIGIBLE\")"
   ]
  },
  {
   "cell_type": "code",
   "execution_count": 41,
   "id": "accef0c0-3e37-46ae-bbf0-b687a8007de8",
   "metadata": {},
   "outputs": [
    {
     "name": "stdin",
     "output_type": "stream",
     "text": [
      "Enter the Gender: Female\n",
      "Enter the Age: 23\n"
     ]
    },
    {
     "name": "stdout",
     "output_type": "stream",
     "text": [
      "Eligible\n"
     ]
    }
   ],
   "source": [
    "Eligible()"
   ]
  },
  {
   "cell_type": "code",
   "execution_count": 43,
   "id": "9f503ebc-8861-4461-ab33-ef94fa0336e5",
   "metadata": {},
   "outputs": [],
   "source": [
    "# Create Function:"
   ]
  },
  {
   "cell_type": "code",
   "execution_count": 69,
   "id": "fc072dbe-8b5d-49ac-a6a5-9c1e8be6ff1d",
   "metadata": {},
   "outputs": [],
   "source": [
    "def percentage():\n",
    "    subject1 = int(input(\"Subject1=\"))\n",
    "    subject2 = int(input(\"Subject2=\"))\n",
    "    subject3 = int(input(\"Subject3=\"))\n",
    "    subject4 = int(input(\"Subject4=\"))\n",
    "    subject5 = int(input(\"Subject5=\"))\n",
    "    Total = subject1 + subject2 + subject3 + subject4 + subject5\n",
    "    Percentage = Total/5\n",
    "    print(\"Total :\",Total)\n",
    "    print(\"Percentage :\",Percentage)\n",
    "    "
   ]
  },
  {
   "cell_type": "code",
   "execution_count": 71,
   "id": "e2b86e47-6331-4330-9fb5-ebf44138d720",
   "metadata": {},
   "outputs": [
    {
     "name": "stdin",
     "output_type": "stream",
     "text": [
      "Subject1= 23\n",
      "Subject2= 45\n",
      "Subject3= 34\n",
      "Subject4= 23\n",
      "Subject5= 23\n"
     ]
    },
    {
     "name": "stdout",
     "output_type": "stream",
     "text": [
      "Total : 148\n",
      "Percentage : 29.6\n"
     ]
    }
   ],
   "source": [
    "percentage()"
   ]
  },
  {
   "cell_type": "code",
   "execution_count": 73,
   "id": "20e21d4d-6ec6-41bd-8d42-911246743d5a",
   "metadata": {},
   "outputs": [],
   "source": [
    "# Create Function"
   ]
  },
  {
   "cell_type": "code",
   "execution_count": 77,
   "id": "933f8571-5b7b-4b2f-b20d-58f5468b7564",
   "metadata": {},
   "outputs": [],
   "source": [
    "def triangle():\n",
    "    Height = int(input(\"Height=\"))\n",
    "    Breadth = int(input(\"Breadth=\"))\n",
    "    area_of_traingle = (Height*Breadth)/2\n",
    "    print(\"Area formula: (Height*Breadth)/2\")\n",
    "    print(\"Area of Traingle:\",area_of_traingle)\n",
    "    Height1 = int(input(\"Height1=\"))\n",
    "    Height2 = int(input(\"Height2=\"))\n",
    "    Breadth1 = int(input(\"Breadth1=\"))\n",
    "    print(\"Perimeter formula: Height1+Height2+Breadth1\")\n",
    "    perimeter_of_traingle = Height1+Height2+Breadth1\n",
    "    print(\"perimeter of Traingle:\", perimeter_of_traingle)\n",
    "    "
   ]
  },
  {
   "cell_type": "code",
   "execution_count": 79,
   "id": "38280dd6-7b42-46f4-8858-79e50688a14b",
   "metadata": {},
   "outputs": [
    {
     "name": "stdin",
     "output_type": "stream",
     "text": [
      "Height= 3\n",
      "Breadth= 4\n"
     ]
    },
    {
     "name": "stdout",
     "output_type": "stream",
     "text": [
      "Area formula: (Height*Breadth)/2\n",
      "Area of Traingle: 6.0\n"
     ]
    },
    {
     "name": "stdin",
     "output_type": "stream",
     "text": [
      "Height1= 3\n",
      "Height2= 4\n",
      "Breadth1= 45\n"
     ]
    },
    {
     "name": "stdout",
     "output_type": "stream",
     "text": [
      "Perimeter formula: Height1+Height2+Breadth1\n",
      "perimeter of Traingle: 52\n"
     ]
    }
   ],
   "source": [
    "triangle()"
   ]
  }
 ],
 "metadata": {
  "kernelspec": {
   "display_name": "Python 3 (ipykernel)",
   "language": "python",
   "name": "python3"
  },
  "language_info": {
   "codemirror_mode": {
    "name": "ipython",
    "version": 3
   },
   "file_extension": ".py",
   "mimetype": "text/x-python",
   "name": "python",
   "nbconvert_exporter": "python",
   "pygments_lexer": "ipython3",
   "version": "3.12.7"
  }
 },
 "nbformat": 4,
 "nbformat_minor": 5
}
