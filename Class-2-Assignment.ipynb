{
 "cells": [
  {
   "cell_type": "markdown",
   "id": "b131b3f5-e1f6-4c87-b01f-e90583190f09",
   "metadata": {},
   "source": [
    "# Create a class and function, and list out the items in the lists:"
   ]
  },
  {
   "cell_type": "code",
   "execution_count": null,
   "id": "801fa479-0c7c-45d4-a92b-6eac0a72b130",
   "metadata": {},
   "outputs": [],
   "source": [
    "# syntax: from filename import classname"
   ]
  },
  {
   "cell_type": "code",
   "execution_count": 6,
   "id": "81a6e8f4-5466-40a5-89e5-b9188c43a68b",
   "metadata": {},
   "outputs": [],
   "source": [
    "from All_Functions import AllFunctions"
   ]
  },
  {
   "cell_type": "code",
   "execution_count": 8,
   "id": "964efd46-176e-41cb-820e-04b32841612f",
   "metadata": {},
   "outputs": [
    {
     "name": "stdout",
     "output_type": "stream",
     "text": [
      "Sub-Fields in AI are:\n",
      "Machine Learning\n",
      "Neural Network\n",
      "Vision\n",
      "Robotics\n",
      "Speech Processing\n",
      "Natural Language Processing\n"
     ]
    }
   ],
   "source": [
    "AllFunctions.Subfields()"
   ]
  },
  {
   "cell_type": "code",
   "execution_count": 14,
   "id": "39257dea-0ae1-4b8d-96ca-103db081a209",
   "metadata": {},
   "outputs": [],
   "source": [
    "# create a function that checks whether the given number is odd or even"
   ]
  },
  {
   "cell_type": "code",
   "execution_count": 10,
   "id": "a830982c-cb30-47d4-a4fe-1521d749edf4",
   "metadata": {},
   "outputs": [
    {
     "name": "stdin",
     "output_type": "stream",
     "text": [
      "Enter a number: 52452\n"
     ]
    },
    {
     "name": "stdout",
     "output_type": "stream",
     "text": [
      "52452 is Even Number\n"
     ]
    }
   ],
   "source": [
    "AllFunctions.OddEven()"
   ]
  },
  {
   "cell_type": "code",
   "execution_count": 16,
   "id": "3c5466ad-feb5-432f-9441-ec514abb2234",
   "metadata": {},
   "outputs": [],
   "source": [
    "# create a function that tells the eligibility of marriage for male and female according to their age limit like 21 for male and 18 for female:"
   ]
  },
  {
   "cell_type": "code",
   "execution_count": 12,
   "id": "f35d6b5f-2fdf-450b-92a7-9b4909af05cd",
   "metadata": {},
   "outputs": [
    {
     "name": "stdin",
     "output_type": "stream",
     "text": [
      "Enter the Gender: Male\n",
      "Enter the Age: 20\n"
     ]
    },
    {
     "name": "stdout",
     "output_type": "stream",
     "text": [
      "NOT ELIGIBLE\n"
     ]
    }
   ],
   "source": [
    "AllFunctions.Eligible()"
   ]
  },
  {
   "cell_type": "code",
   "execution_count": 18,
   "id": "022eafb8-e88d-4441-b404-97b31b0a3de9",
   "metadata": {},
   "outputs": [],
   "source": [
    "# calculate the percentage of your 10th mark:"
   ]
  },
  {
   "cell_type": "code",
   "execution_count": 22,
   "id": "846c9c78-bb24-4505-bc4a-a100594e36d6",
   "metadata": {},
   "outputs": [
    {
     "name": "stdin",
     "output_type": "stream",
     "text": [
      "Subject1= 98\n",
      "Subject2= 87\n",
      "Subject3= 95\n",
      "Subject4= 95\n",
      "Subject5= 93\n"
     ]
    },
    {
     "name": "stdout",
     "output_type": "stream",
     "text": [
      "Total : 468\n",
      "Percentage : 93.6\n"
     ]
    }
   ],
   "source": [
    "AllFunctions.percentage()"
   ]
  },
  {
   "cell_type": "code",
   "execution_count": 24,
   "id": "1189dc82-8e8e-45b0-8f2a-1612376c7425",
   "metadata": {},
   "outputs": [],
   "source": [
    "# print area and perimeter of triangle using class and functions:"
   ]
  },
  {
   "cell_type": "code",
   "execution_count": 26,
   "id": "0854271b-dd13-4928-b803-c42822fef8b9",
   "metadata": {},
   "outputs": [
    {
     "name": "stdin",
     "output_type": "stream",
     "text": [
      "Height= 32\n",
      "Breadth= 34\n"
     ]
    },
    {
     "name": "stdout",
     "output_type": "stream",
     "text": [
      "Area formula: (Height*Breadth)/2\n",
      "Area of Traingle: 544.0\n"
     ]
    },
    {
     "name": "stdin",
     "output_type": "stream",
     "text": [
      "Height1= 2\n",
      "Height2= 4\n",
      "Breadth1= 4\n"
     ]
    },
    {
     "name": "stdout",
     "output_type": "stream",
     "text": [
      "Perimeter formula: Height1+Height2+Breadth1\n",
      "perimeter of Traingle: 10\n"
     ]
    }
   ],
   "source": [
    "AllFunctions.triangle()"
   ]
  },
  {
   "cell_type": "code",
   "execution_count": null,
   "id": "f0ef8c5e-2f80-45d2-aabc-841b8b7d20dc",
   "metadata": {},
   "outputs": [],
   "source": []
  }
 ],
 "metadata": {
  "kernelspec": {
   "display_name": "Python 3 (ipykernel)",
   "language": "python",
   "name": "python3"
  },
  "language_info": {
   "codemirror_mode": {
    "name": "ipython",
    "version": 3
   },
   "file_extension": ".py",
   "mimetype": "text/x-python",
   "name": "python",
   "nbconvert_exporter": "python",
   "pygments_lexer": "ipython3",
   "version": "3.12.7"
  }
 },
 "nbformat": 4,
 "nbformat_minor": 5
}
